{
 "cells": [
  {
   "cell_type": "code",
   "execution_count": null,
   "id": "088250ba-d96e-4b84-9bd5-7fa3873bdec5",
   "metadata": {},
   "outputs": [],
   "source": [
    "from langchain.document_loaders import PyMuPDFLoader\n",
    "from langchain.text_splitter import RecursiveCharacterTextSplitter\n",
    "from langchain_huggingface import HuggingFaceEmbeddings\n",
    "from langchain.vectorstores import Chroma"
   ]
  },
  {
   "cell_type": "code",
   "execution_count": null,
   "id": "e4fff3df-8198-4a0c-8b75-176d65fe86be",
   "metadata": {},
   "outputs": [],
   "source": [
    "loader = PyMuPDFLoader(\"paper.pdf\")"
   ]
  },
  {
   "cell_type": "code",
   "execution_count": null,
   "id": "4fed0de9-9881-4e9d-9594-8ea73ad2a739",
   "metadata": {},
   "outputs": [],
   "source": [
    "documents = loader.load()"
   ]
  },
  {
   "cell_type": "code",
   "execution_count": null,
   "id": "9a07c18c-58fa-40fc-8bbe-aeb44de354f0",
   "metadata": {},
   "outputs": [],
   "source": [
    "len(documents) # 1 document / page"
   ]
  },
  {
   "cell_type": "code",
   "execution_count": null,
   "id": "91bbc229-a30e-43fa-b6f4-664ce47ae40f",
   "metadata": {},
   "outputs": [],
   "source": [
    "documents[0].metadata # each Document within the array has a metadata and a page_content attribute"
   ]
  },
  {
   "cell_type": "code",
   "execution_count": null,
   "id": "49be183f-60db-4a6c-83e5-b9f82426f57d",
   "metadata": {},
   "outputs": [],
   "source": [
    "documents[0].page_content"
   ]
  },
  {
   "cell_type": "code",
   "execution_count": null,
   "id": "07c0a297-af13-46df-ba1a-43c3602cf1bb",
   "metadata": {},
   "outputs": [],
   "source": [
    "# Splitting the documents into chunks\n",
    "splitter = RecursiveCharacterTextSplitter(\n",
    "    chunk_size=500,\n",
    "    chunk_overlap=100\n",
    ")\n",
    "\n",
    "chunks = splitter.split_documents(documents)"
   ]
  },
  {
   "cell_type": "code",
   "execution_count": null,
   "id": "ce173f20-f387-45c2-a4ca-1f2289bc8d19",
   "metadata": {},
   "outputs": [],
   "source": [
    "len(chunks) # It produced a array of chunks"
   ]
  },
  {
   "cell_type": "code",
   "execution_count": null,
   "id": "5e4d16c4-7972-4aef-8b2b-a66b9eda2a0b",
   "metadata": {},
   "outputs": [],
   "source": [
    "chunks[0].page_content"
   ]
  },
  {
   "cell_type": "code",
   "execution_count": null,
   "id": "3a84756c-64b2-4d0d-bb82-29d2562dc5cf",
   "metadata": {},
   "outputs": [],
   "source": [
    "chunks[1].page_content\n",
    "# there's overlap btwn chunks[n] & chunks[n + 1]\n",
    "# overlapping is necessary to preserve context. It improves model understanding of the text."
   ]
  },
  {
   "cell_type": "code",
   "execution_count": null,
   "id": "b3cc5160-438c-49b7-9abe-a038403c56cd",
   "metadata": {},
   "outputs": [],
   "source": [
    "embedder = HuggingFaceEmbeddings(model_name=\"all-MiniLM-L6-v2\")  # CPU-friendly"
   ]
  },
  {
   "cell_type": "code",
   "execution_count": null,
   "id": "1913b4a9-7602-4875-85a0-a2b090c9d090",
   "metadata": {},
   "outputs": [],
   "source": [
    "db = Chroma.from_documents(chunks, embedding=embedder, persist_directory=\"./chroma_db\")"
   ]
  },
  {
   "cell_type": "code",
   "execution_count": null,
   "id": "55c279d5-4233-4a44-a699-56e936b999c2",
   "metadata": {},
   "outputs": [],
   "source": [
    "db = Chroma(persist_directory=\"./chroma_db\", embedding_function=embedder)\n",
    "question = \"Author names\"\n",
    "results = db.similarity_search_with_score(query, k=5)"
   ]
  },
  {
   "cell_type": "code",
   "execution_count": null,
   "id": "f15c48c2-057d-474c-98c0-b93a60a7cdb8",
   "metadata": {},
   "outputs": [],
   "source": [
    "results"
   ]
  },
  {
   "cell_type": "code",
   "execution_count": null,
   "id": "0c419f77-dc49-4bdb-a1c5-6a287846ce82",
   "metadata": {},
   "outputs": [],
   "source": [
    "for i in range(len(results)):\n",
    "    print(f'result n°{i} :')\n",
    "    print(f'score {results[i][1]}:') # displays score\n",
    "    print(f'{results[i][0].page_content} \\n') # displays page_content"
   ]
  },
  {
   "cell_type": "code",
   "execution_count": null,
   "id": "5cdef28e-2e53-412a-b6c2-4b15335a4adc",
   "metadata": {},
   "outputs": [],
   "source": []
  }
 ],
 "metadata": {
  "kernelspec": {
   "display_name": "Python 3 (ipykernel)",
   "language": "python",
   "name": "python3"
  },
  "language_info": {
   "codemirror_mode": {
    "name": "ipython",
    "version": 3
   },
   "file_extension": ".py",
   "mimetype": "text/x-python",
   "name": "python",
   "nbconvert_exporter": "python",
   "pygments_lexer": "ipython3",
   "version": "3.12.3"
  }
 },
 "nbformat": 4,
 "nbformat_minor": 5
}
