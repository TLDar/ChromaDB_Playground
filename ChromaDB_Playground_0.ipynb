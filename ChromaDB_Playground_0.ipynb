{
 "cells": [
  {
   "cell_type": "code",
   "execution_count": null,
   "id": "10a78c38-5899-4492-afc9-aa1696a0cd09",
   "metadata": {},
   "outputs": [],
   "source": [
    "import chromadb\n",
    "from sentence_transformers import SentenceTransformer"
   ]
  },
  {
   "cell_type": "code",
   "execution_count": null,
   "id": "e9779c32-76f9-4a56-a557-f57ef79ca4a2",
   "metadata": {},
   "outputs": [],
   "source": [
    "client = chromadb.Client()\n",
    "collection = client.create_collection(\"test_collection\")"
   ]
  },
  {
   "cell_type": "code",
   "execution_count": null,
   "id": "a0de7576-8737-41f5-a80b-78dd5badcf00",
   "metadata": {},
   "outputs": [],
   "source": [
    "print(client.get_collection)"
   ]
  },
  {
   "cell_type": "code",
   "execution_count": null,
   "id": "aa71bc03-e7b3-425f-b217-6ef1c668b27b",
   "metadata": {},
   "outputs": [],
   "source": [
    "model = SentenceTransformer(\"all-MiniLM-L6-v2\")\n",
    "texts = [\"Hello world\", \"Hello universe\", \"Goodbye world\"]\n",
    "embeddings = model.encode(texts).tolist()"
   ]
  },
  {
   "cell_type": "code",
   "execution_count": null,
   "id": "a5c0e2a0-eb99-42f9-b976-c3c62ae6fa37",
   "metadata": {},
   "outputs": [],
   "source": [
    "print(embeddings)"
   ]
  },
  {
   "cell_type": "code",
   "execution_count": null,
   "id": "d836db63-50fe-4180-8d0b-b54cb011d253",
   "metadata": {},
   "outputs": [],
   "source": [
    "collection.add(\n",
    "    documents= texts,\n",
    "    embeddings= embeddings,  \n",
    "    ids=[\"doc1\", \"doc2\", \"doc3\"]\n",
    ")\n"
   ]
  },
  {
   "cell_type": "code",
   "execution_count": null,
   "id": "2146c4a6-b18f-431a-9a2e-d3a2bacf9a70",
   "metadata": {},
   "outputs": [],
   "source": [
    "collection.count()"
   ]
  },
  {
   "cell_type": "code",
   "execution_count": null,
   "id": "844a09f6-77ce-4e73-8d05-155722ec81fa",
   "metadata": {},
   "outputs": [],
   "source": [
    "results = collection.query(\n",
    "    query_embeddings=[embeddings[0]],\n",
    "    n_results=3\n",
    ")"
   ]
  },
  {
   "cell_type": "code",
   "execution_count": null,
   "id": "fab1ab12-9577-4552-b079-074f5ebabf03",
   "metadata": {},
   "outputs": [],
   "source": [
    "print(results)"
   ]
  },
  {
   "cell_type": "code",
   "execution_count": null,
   "id": "46ff5103-b64b-4b7f-be10-9b32cadd2ddc",
   "metadata": {},
   "outputs": [],
   "source": [
    "print(results['distances'])"
   ]
  },
  {
   "cell_type": "code",
   "execution_count": null,
   "id": "8204bf00-6625-495a-af7c-a46192233d79",
   "metadata": {},
   "outputs": [],
   "source": []
  },
  {
   "cell_type": "code",
   "execution_count": null,
   "id": "d873b469-2410-4dfa-8e5d-03ecdf2873eb",
   "metadata": {},
   "outputs": [],
   "source": []
  }
 ],
 "metadata": {
  "kernelspec": {
   "display_name": "Python 3 (ipykernel)",
   "language": "python",
   "name": "python3"
  },
  "language_info": {
   "codemirror_mode": {
    "name": "ipython",
    "version": 3
   },
   "file_extension": ".py",
   "mimetype": "text/x-python",
   "name": "python",
   "nbconvert_exporter": "python",
   "pygments_lexer": "ipython3",
   "version": "3.12.3"
  }
 },
 "nbformat": 4,
 "nbformat_minor": 5
}
